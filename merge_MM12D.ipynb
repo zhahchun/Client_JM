{
 "cells": [
  {
   "cell_type": "code",
   "execution_count": 1,
   "metadata": {},
   "outputs": [
    {
     "name": "stdout",
     "output_type": "stream",
     "text": [
      "['ZMM012D_CN10_201901.xlsx', 'ZMM012D_CN10_201902.xlsx', 'ZMM012D_CN10_202001.xlsx', 'ZMM012D_CN10_202002.xlsx', 'ZMM012D_CN20_201901.xlsx', 'ZMM012D_CN20_201902.xlsx', 'ZMM012D_CN20_202001.xlsx', 'ZMM012D_CN20_202002.xlsx', 'ZMM012D_CN30_201901.xlsx', 'ZMM012D_CN30_201902.xlsx', 'ZMM012D_CN30_202001.xlsx', 'ZMM012D_CN30_202002.xlsx', 'ZMM012D_CN40_201901.xlsx', 'ZMM012D_CN40_201902.xlsx', 'ZMM012D_CN40_202001.xlsx', 'ZMM012D_CN40_202002.xlsx', 'ZMM012D_CN50_201901.xlsx', 'ZMM012D_CN50_201902.xlsx', 'ZMM012D_CN50_202001.xlsx', 'ZMM012D_CN50_202002.xlsx', 'ZMM012D_CN60_201901.xlsx', 'ZMM012D_CN60_201902.xlsx', 'ZMM012D_CN60_202001.xlsx', 'ZMM012D_CN60_202002.xlsx', 'ZMM012D_CN80_201901.xlsx', 'ZMM012D_CN80_201902.xlsx', 'ZMM012D_CN80_202001.xlsx', 'ZMM012D_CN80_202002.xlsx', 'ZMM012D_TW10_201901.xlsx', 'ZMM012D_TW10_201902.xlsx', 'ZMM012D_TW10_202001.xlsx', 'ZMM012D_TW10_202002.xlsx']\n"
     ]
    }
   ],
   "source": [
    "import pandas as pd\n",
    "from os import listdir\n",
    "tables = listdir('ZMM012D/')\n",
    "print(tables)"
   ]
  },
  {
   "cell_type": "code",
   "execution_count": 4,
   "metadata": {},
   "outputs": [
    {
     "name": "stdout",
     "output_type": "stream",
     "text": [
      "ZMM012D_CN10_201901.xlsx\n",
      "99589\n",
      "99589\n",
      "ZMM012D_CN20_201901.xlsx\n",
      "595330\n",
      "694919\n",
      "ZMM012D_CN30_201901.xlsx\n",
      "555540\n",
      "1250459\n",
      "ZMM012D_CN40_201901.xlsx\n",
      "37122\n",
      "1287581\n",
      "ZMM012D_CN50_201901.xlsx\n",
      "218376\n",
      "1505957\n",
      "ZMM012D_CN60_201901.xlsx\n",
      "8836\n",
      "1514793\n",
      "ZMM012D_CN80_201901.xlsx\n",
      "14835\n",
      "1529628\n",
      "ZMM012D_TW10_201901.xlsx\n",
      "467000\n",
      "1996628\n"
     ]
    }
   ],
   "source": [
    "final = pd.DataFrame()\n",
    "sub = '201901'\n",
    "for t in tables:\n",
    "    if sub in t:\n",
    "        path = 'ZMM012D/' + t\n",
    "        print(t)\n",
    "        file = pd.read_excel(path)\n",
    "        print(len(file))\n",
    "        file['SourceFile'] = t\n",
    "        final = pd.concat([final, file])\n",
    "        print(len(final))"
   ]
  },
  {
   "cell_type": "code",
   "execution_count": 5,
   "metadata": {},
   "outputs": [],
   "source": [
    "final.to_csv('ZMM012D.csv', index=False, sep = '|')"
   ]
  },
  {
   "cell_type": "code",
   "execution_count": null,
   "metadata": {},
   "outputs": [],
   "source": []
  }
 ],
 "metadata": {
  "kernelspec": {
   "display_name": "Python 3",
   "language": "python",
   "name": "python3"
  },
  "language_info": {
   "codemirror_mode": {
    "name": "ipython",
    "version": 3
   },
   "file_extension": ".py",
   "mimetype": "text/x-python",
   "name": "python",
   "nbconvert_exporter": "python",
   "pygments_lexer": "ipython3",
   "version": "3.8.5"
  }
 },
 "nbformat": 4,
 "nbformat_minor": 4
}
