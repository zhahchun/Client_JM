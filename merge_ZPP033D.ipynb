{
 "cells": [
  {
   "cell_type": "code",
   "execution_count": null,
   "metadata": {},
   "outputs": [],
   "source": [
    "import pandas as pd\n",
    "from os import listdir\n",
    "tables = listdir('ZPP033D/')\n",
    "print(tables)"
   ]
  },
  {
   "cell_type": "code",
   "execution_count": null,
   "metadata": {},
   "outputs": [
    {
     "name": "stdout",
     "output_type": "stream",
     "text": [
      "ZPP033D_ALL_2016-202005.xlsx\n"
     ]
    }
   ],
   "source": [
    "final = pd.DataFrame()\n",
    "for t in tables:\n",
    "    path = 'ZPP033D/' + t\n",
    "    print(t)\n",
    "    file = pd.read_excel(path)\n",
    "    print(len(file))\n",
    "    file['SourceFile'] = t\n",
    "    final = pd.concat([final, file])\n",
    "    print(len(final))"
   ]
  },
  {
   "cell_type": "code",
   "execution_count": null,
   "metadata": {},
   "outputs": [],
   "source": [
    "final02 = final.loc[ (final['結案日']>= '2019-01-01') & (final['結案日']<= '2020-12-31') ]\n",
    "final02.head()"
   ]
  },
  {
   "cell_type": "code",
   "execution_count": null,
   "metadata": {},
   "outputs": [],
   "source": [
    "final.to_csv('ZPP033D.csv', index=False, sep = ';')\n",
    "final02.to_csv('ZPP033D_19_20.csv', index=False, sep = ';')"
   ]
  },
  {
   "cell_type": "code",
   "execution_count": null,
   "metadata": {},
   "outputs": [],
   "source": []
  },
  {
   "cell_type": "code",
   "execution_count": null,
   "metadata": {},
   "outputs": [],
   "source": []
  }
 ],
 "metadata": {
  "kernelspec": {
   "display_name": "Python 3",
   "language": "python",
   "name": "python3"
  },
  "language_info": {
   "codemirror_mode": {
    "name": "ipython",
    "version": 3
   },
   "file_extension": ".py",
   "mimetype": "text/x-python",
   "name": "python",
   "nbconvert_exporter": "python",
   "pygments_lexer": "ipython3",
   "version": "3.8.5"
  }
 },
 "nbformat": 4,
 "nbformat_minor": 4
}
